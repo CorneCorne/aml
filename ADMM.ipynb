{
 "cells": [
  {
   "cell_type": "markdown",
   "metadata": {},
   "source": [
    "##### 参考\n",
    "##### Alternating Direction Method of Multipliers (ADMM) で Lasso 回帰\n",
    "##### https://qiita.com/s-capybara/items/48e2829ae7c1d402bff8"
   ]
  },
  {
   "cell_type": "code",
   "execution_count": null,
   "metadata": {},
   "outputs": [],
   "source": [
    "import numpy as np"
   ]
  },
  {
   "cell_type": "code",
   "execution_count": 90,
   "metadata": {},
   "outputs": [],
   "source": [
    "# ランダムシードによる乱数生成\n",
    "prng = np.random.RandomState(0)"
   ]
  },
  {
   "cell_type": "code",
   "execution_count": 106,
   "metadata": {},
   "outputs": [],
   "source": [
    "# Toy Dataset I\n",
    "def create_dataset_1(n=100):\n",
    "    x = 3 * (prng.randn(n,2) - 0.5)\n",
    "    radius = [i**2 + j**2 for i,j in x]\n",
    "    y = [(r > 0.7 + 0.1 * prng.randn()) and (r < 2.2 + 0.1 * prng.randn()) for r in radius]\n",
    "    y = np.array([2 * t_y - 1 for t_y in y])\n",
    "    return x,y\n",
    "\n",
    "# Toy Dataset II\n",
    "def create_dataset_2(n=40):\n",
    "    omega = prng.randn()\n",
    "    noise = 0.8 * prng.randn(1,n)\n",
    "    x = prng.randn(n,2)\n",
    "    y = 2 * (omega * x[:,0]+x[:,1] + noise > 0) -1\n",
    "    y = y.reshape(n)\n",
    "    return x,y"
   ]
  },
  {
   "cell_type": "code",
   "execution_count": 88,
   "metadata": {},
   "outputs": [
    {
     "name": "stdout",
     "output_type": "stream",
     "text": [
      "Lasso by ADMM\n",
      "[ 0.0172029227  0.0542859795]\n"
     ]
    }
   ],
   "source": [
    "n=100\n",
    "\n",
    "x,y = create_dataset_1(n)\n",
    "\n",
    "mean = np.mean(x, axis=0)\n",
    "std = np.std(x, axis=0)\n",
    "\n",
    "A = x\n",
    "b = y\n",
    "\n",
    "model = Admm(lambd=1.0, rho=1.0, max_iter=1000)\n",
    "model.fit(A, b)\n",
    "print(\"Lasso by ADMM\")\n",
    "print(model.coef_)"
   ]
  },
  {
   "cell_type": "code",
   "execution_count": 86,
   "metadata": {},
   "outputs": [
    {
     "data": {
      "text/plain": [
       "72"
      ]
     },
     "execution_count": 86,
     "metadata": {},
     "output_type": "execute_result"
    }
   ],
   "source": [
    "# テストデータセットを用意\n",
    "x,t = create_dataset_1(n)\n",
    "\n",
    "y = model.predict(np.array(x))\n",
    "y = np.where(y > 0,1,-1)\n",
    "acc = np.where(t == y,1,0)\n",
    "acc.sum()"
   ]
  },
  {
   "cell_type": "code",
   "execution_count": 137,
   "metadata": {},
   "outputs": [
    {
     "name": "stdout",
     "output_type": "stream",
     "text": [
      "データセット2\n",
      "x (40, 2)\n",
      "y (40,)\n",
      "Lasso by ADMM\n",
      "[ 0.0000000001 -0.0000000000]\n",
      "正答率 0.425\n"
     ]
    }
   ],
   "source": [
    "# データセット2でやってみる\n",
    "print(\"データセット2\")\n",
    "x,y = create_dataset_2(40)\n",
    "print(\"x\",x.shape)\n",
    "print(\"y\",y.shape)\n",
    "\n",
    "A = x\n",
    "b = y\n",
    "\n",
    "model = Admm(lambd=1.0, rho=1.0, max_iter=25)\n",
    "model.fit(A, b)\n",
    "print(\"Lasso by ADMM\")\n",
    "print(model.coef_)\n",
    "\n",
    "# テストデータセットを用意\n",
    "x,t = create_dataset_2(40)\n",
    "\n",
    "y = model.predict(np.array(x))\n",
    "y = np.where(y > 0,1,-1)\n",
    "acc = np.where(t == y,1,0)\n",
    "print(\"正答率\",acc.sum() / len(acc))"
   ]
  },
  {
   "cell_type": "code",
   "execution_count": null,
   "metadata": {},
   "outputs": [],
   "source": []
  },
  {
   "cell_type": "code",
   "execution_count": 5,
   "metadata": {},
   "outputs": [],
   "source": [
    "#class Admm(BaseEstimator, RegressorMixin):\n",
    "class Admm:\n",
    "    def __init__(self, lambd=1.0, rho=1.0, max_iter=1000):\n",
    "        self.lambd = lambd\n",
    "        self.rho = rho\n",
    "        self.threshold = lambd / rho\n",
    "        self.max_iter = max_iter\n",
    "        self.coef_ = None\n",
    "        self.intercept_ = 0.0\n",
    "\n",
    "    def _soft_threshold(self, x):\n",
    "        t = self.threshold\n",
    "        \n",
    "        positive_indexes = x >= t\n",
    "        negative_indexes = x <= t\n",
    "        zero_indexes = abs(x) <= t\n",
    "        \n",
    "        y = np.zeros(x.shape)    \n",
    "        y[positive_indexes] = x[positive_indexes] - t\n",
    "        y[negative_indexes] = x[negative_indexes] + t\n",
    "        y[zero_indexes] = 0.0\n",
    "    \n",
    "        return y\n",
    "\n",
    "    def fit(self, A, b):\n",
    "        N = A.shape[0]\n",
    "        M = A.shape[1]\n",
    "        inv_matrix = np.linalg.inv(np.dot(A.T, A) / N + self.rho * np.identity(M))\n",
    "        \n",
    "        x = np.dot(A.T, b) / N\n",
    "        z = x.copy()\n",
    "        y = np.zeros(len(x))\n",
    "    \n",
    "        for iteration in range(self.max_iter):\n",
    "            x = np.dot(inv_matrix, np.dot(A.T, b) / N + self.rho * z - y)\n",
    "            z = self._soft_threshold(x + y / self.rho)\n",
    "            y += self.rho * (x - z)\n",
    "\n",
    "        self.coef_ = x\n",
    "                      \n",
    "        return self\n",
    "\n",
    "    def predict(self, X):\n",
    "        y = np.dot(X, self.coef_)\n",
    "        return y"
   ]
  },
  {
   "cell_type": "code",
   "execution_count": null,
   "metadata": {},
   "outputs": [],
   "source": []
  }
 ],
 "metadata": {
  "kernelspec": {
   "display_name": "Python 3",
   "language": "python",
   "name": "python3"
  },
  "language_info": {
   "codemirror_mode": {
    "name": "ipython",
    "version": 3
   },
   "file_extension": ".py",
   "mimetype": "text/x-python",
   "name": "python",
   "nbconvert_exporter": "python",
   "pygments_lexer": "ipython3",
   "version": "3.7.6"
  }
 },
 "nbformat": 4,
 "nbformat_minor": 2
}
